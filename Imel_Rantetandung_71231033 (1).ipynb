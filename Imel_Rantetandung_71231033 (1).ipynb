{
  "nbformat": 4,
  "nbformat_minor": 0,
  "metadata": {
    "colab": {
      "provenance": []
    },
    "kernelspec": {
      "name": "python3",
      "display_name": "Python 3"
    },
    "language_info": {
      "name": "python"
    }
  },
  "cells": [
    {
      "cell_type": "code",
      "execution_count": null,
      "metadata": {
        "id": "iPAL8-QV5SB0"
      },
      "outputs": [],
      "source": [
        "#NO 1\n",
        "def cek_angka(a,b,c):\n",
        "    if a != b and b != c and a != c :\n",
        "        if a + b == c or b + c == a or c + a == b :\n",
        "            return True\n",
        "    return False\n",
        "\n",
        "print(cek_angka(1,2,3))\n",
        "print(cek_angka(2,3,4))\n",
        "print(cek_angka(2,3,2))"
      ]
    },
    {
      "cell_type": "code",
      "source": [
        "#NO 2\n",
        "def cek_digit_belakang(a, b, c):\n",
        "    angka1 = a % 10\n",
        "    angka2 = b % 10\n",
        "    angka3 = c % 10\n",
        "\n",
        "    if angka1 == angka2 or angka1 == angka3 or angka2 == angka3 :\n",
        "        return True\n",
        "    return False\n",
        "\n",
        "bilangan_pertama = int(input(\"Masukkan angka 1 : \"))\n",
        "bilangan_kedua = int(input(\"Masukkan angka 1 : \"))\n",
        "bilangan_ketiga = int(input(\"Masukkan angka 1 : \"))\n",
        "\n",
        "print(cek_digit_belakang(bilangan_pertama, bilangan_kedua, bilangan_ketiga))\n",
        "\n",
        "#test case\n",
        "#Input = 30, 20, 18. Output yang diharapkan = True\n",
        "#Input = 145, 5, 100. Output yang diharapkan = True\n",
        "#Input = 71, 187, 18. Output yang diharapkan = False\n",
        "#Input = 1024, 14, 94. Output yang diharapkan = True\n",
        "#Input = 53, 8900, 658. Output yang diharapkan = False"
      ],
      "metadata": {
        "id": "9NNZQJWE54f1"
      },
      "execution_count": null,
      "outputs": []
    },
    {
      "cell_type": "code",
      "source": [
        "#NO. 3\n",
        "Celcius_to_Fahrenheit_F = lambda celcius : (9/5) * celcius + 32\n",
        "Celcius_to_Reamur_R = lambda celcius : 0.8 * celcius\n",
        "\n",
        "#test case\n",
        "#Input C = 100. Output F = 212.\n",
        "#Input C = 80. Output R = 64.\n",
        "#Input = 0. Output F = 32.\n",
        "\n",
        "masukkan_suhu_Celcius = (int(input(\"masukkan suhu anda dalam celcius : \")))\n",
        "masukkan_suhu_Celcius1 = (int(input(\"masukkan suhu anda dalam celcius : \")))\n",
        "masukkan_suhu_Celcius2 = (int(input(\"masukkan suhu anda dalam celcius : \")))\n",
        "\n",
        "print(Celcius_to_Fahrenheit_F(masukkan_suhu_Celcius))\n",
        "print(Celcius_to_Reamur_R(masukkan_suhu_Celcius1))\n",
        "print(Celcius_to_Fahrenheit_F(masukkan_suhu_Celcius2))"
      ],
      "metadata": {
        "id": "MjMW-2Ch55vg"
      },
      "execution_count": null,
      "outputs": []
    }
  ]
}